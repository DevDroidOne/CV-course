{
 "cells": [
  {
   "cell_type": "code",
   "execution_count": 2,
   "metadata": {},
   "outputs": [],
   "source": [
    "import tensorflow as tf"
   ]
  },
  {
   "cell_type": "code",
   "execution_count": null,
   "metadata": {},
   "outputs": [],
   "source": [
    "tensor_zero_d = tf.constant(4)\n",
    "print(tensor_zero_d)"
   ]
  },
  {
   "cell_type": "code",
   "execution_count": null,
   "metadata": {},
   "outputs": [],
   "source": [
    "tensor_one_d = tf.constant([1, 2, 3])\n",
    "print(tensor_one_d)"
   ]
  },
  {
   "cell_type": "code",
   "execution_count": null,
   "metadata": {},
   "outputs": [],
   "source": [
    "tensor_two_d = tf.constant([[1,2,3],[2,3,4],[3,4,5]])\n",
    "print(tensor_two_d)\n"
   ]
  },
  {
   "cell_type": "code",
   "execution_count": null,
   "metadata": {},
   "outputs": [],
   "source": [
    "tensor_tree_d = tf.constant([[[1,2,3],[3,4,5]],[[4,5,6],[6,7,8]],[[43,53,63],[63,73,83]]])\n",
    "print(tensor_tree_d)\n"
   ]
  },
  {
   "cell_type": "code",
   "execution_count": null,
   "metadata": {},
   "outputs": [],
   "source": [
    "eye_tensor = tf.eye(num_rows=4,num_columns=None,batch_shape=[2,2],dtype=tf.dtypes.float32)\n",
    "print(eye_tensor)"
   ]
  },
  {
   "cell_type": "code",
   "execution_count": null,
   "metadata": {},
   "outputs": [],
   "source": [
    "tf_fill_tensor = tf.fill([2,3],5)\n",
    "print(tf_fill_tensor)"
   ]
  },
  {
   "cell_type": "code",
   "execution_count": null,
   "metadata": {},
   "outputs": [],
   "source": [
    "tf_ones_tensor = tf.ones([2,3],dtype=tf.int32)\n",
    "print(tf_ones_tensor)"
   ]
  },
  {
   "cell_type": "code",
   "execution_count": null,
   "metadata": {},
   "outputs": [],
   "source": [
    "tf_ones_like = tf.ones_like(eye_tensor)\n",
    "print(tf_ones_like)"
   ]
  },
  {
   "cell_type": "code",
   "execution_count": null,
   "metadata": {},
   "outputs": [],
   "source": [
    "print(tf_ones_tensor.shape)"
   ]
  },
  {
   "cell_type": "code",
   "execution_count": null,
   "metadata": {},
   "outputs": [],
   "source": [
    "print(tf.size(tf_ones_tensor))"
   ]
  },
  {
   "cell_type": "code",
   "execution_count": null,
   "metadata": {},
   "outputs": [],
   "source": [
    "random_tensor = tf.random.normal(\n",
    "    [10,10],\n",
    "    mean = 10,\n",
    "    stddev= 20,\n",
    "    dtype=tf.float32,\n",
    "    seed = None,\n",
    "    name = None\n",
    ")\n",
    "print(random_tensor)"
   ]
  },
  {
   "cell_type": "code",
   "execution_count": 3,
   "metadata": {},
   "outputs": [
    {
     "name": "stdout",
     "output_type": "stream",
     "text": [
      "tf.Tensor(\n",
      "[ 3.9411354 52.42314   39.550735  54.355896  43.918312  67.72635\n",
      " 19.493847  25.217514   7.8068924 37.952366 ], shape=(10,), dtype=float32)\n"
     ]
    }
   ],
   "source": [
    "random_tensor = tf.random.uniform(\n",
    "    [10,],\n",
    "    minval = 0,\n",
    "    maxval= 80,\n",
    "    dtype = tf.dtypes.float32,\n",
    "    seed =None,\n",
    "    name = None)\n",
    "print(random_tensor)"
   ]
  },
  {
   "cell_type": "code",
   "execution_count": 58,
   "metadata": {},
   "outputs": [
    {
     "name": "stdout",
     "output_type": "stream",
     "text": [
      "tf.Tensor([2 3 4 5 6 7 8 8 9 0 1 2 3 4], shape=(14,), dtype=int32)\n"
     ]
    }
   ],
   "source": [
    "tensor_indexed = tf.constant([2,3,4,5,6,7,8,8,9,0,1,2,3,4])\n",
    "print(tensor_indexed)"
   ]
  },
  {
   "cell_type": "code",
   "execution_count": null,
   "metadata": {},
   "outputs": [],
   "source": []
  }
 ],
 "metadata": {
  "kernelspec": {
   "display_name": "Python 3",
   "language": "python",
   "name": "python3"
  },
  "language_info": {
   "codemirror_mode": {
    "name": "ipython",
    "version": 3
   },
   "file_extension": ".py",
   "mimetype": "text/x-python",
   "name": "python",
   "nbconvert_exporter": "python",
   "pygments_lexer": "ipython3",
   "version": "3.11.3"
  },
  "orig_nbformat": 4
 },
 "nbformat": 4,
 "nbformat_minor": 2
}
