{
 "cells": [
  {
   "cell_type": "code",
   "execution_count": 1,
   "metadata": {},
   "outputs": [],
   "source": [
    "import tensorflow as tf"
   ]
  },
  {
   "cell_type": "code",
   "execution_count": 2,
   "metadata": {},
   "outputs": [
    {
     "data": {
      "text/plain": [
       "<tf.Tensor: shape=(2,), dtype=float32, numpy=array([2.25, 3.25], dtype=float32)>"
      ]
     },
     "execution_count": 2,
     "metadata": {},
     "output_type": "execute_result"
    }
   ],
   "source": [
    "x_abs = tf.constant([-2.25, 3.25])\n",
    "tf.abs(x_abs)"
   ]
  },
  {
   "cell_type": "code",
   "execution_count": 5,
   "metadata": {},
   "outputs": [
    {
     "name": "stdout",
     "output_type": "stream",
     "text": [
      "tf.Tensor([ 9  9 11 13 15 14 13  8  6  7], shape=(10,), dtype=int32)\n",
      "tf.Tensor([ 1 -1 -1 -1 -1  2  5  2  2 -1], shape=(10,), dtype=int32)\n",
      "tf.Tensor([20 20 30 42 56 48 36 15  8 12], shape=(10,), dtype=int32)\n",
      "tf.Tensor(\n",
      "[1.25       0.8        0.83333333 0.85714286 0.875      1.33333333\n",
      " 2.25       1.66666667 2.         0.75      ], shape=(10,), dtype=float64)\n"
     ]
    }
   ],
   "source": [
    "x_1 = tf.constant([5,4,5,6,7,8,9,5,4,3])\n",
    "x_2 = tf.constant([4,5,6,7,8,6,4,3,2,4])\n",
    "print(tf.add(x_1,x_2))\n",
    "print(tf.math.subtract(x_1,x_2))\n",
    "print(tf.multiply(x_1,x_2))\n",
    "print(tf.divide(x_1,x_2))\n"
   ]
  },
  {
   "cell_type": "code",
   "execution_count": 8,
   "metadata": {},
   "outputs": [
    {
     "name": "stdout",
     "output_type": "stream",
     "text": [
      "tf.Tensor(\n",
      "[[35. 21. 28. 35. 42. 49.]\n",
      " [25. 15. 20. 25. 30. 35.]\n",
      " [15.  9. 12. 15. 18. 21.]], shape=(3, 6), dtype=float32)\n"
     ]
    }
   ],
   "source": [
    "x_3 = tf.constant([[5,3,4,5,6,7],],dtype=tf.float32)\n",
    "x_4 = tf.constant([[7],[5],[3],], dtype=tf.float32)\n",
    "\n",
    "print(tf.math.multiply(x_3,x_4))"
   ]
  },
  {
   "cell_type": "code",
   "execution_count": 1,
   "metadata": {},
   "outputs": [
    {
     "ename": "NameError",
     "evalue": "name 'tf' is not defined",
     "output_type": "error",
     "traceback": [
      "\u001b[1;31m---------------------------------------------------------------------------\u001b[0m",
      "\u001b[1;31mNameError\u001b[0m                                 Traceback (most recent call last)",
      "Cell \u001b[1;32mIn[1], line 1\u001b[0m\n\u001b[1;32m----> 1\u001b[0m x_argmax \u001b[39m=\u001b[39m tf\u001b[39m.\u001b[39mmath\u001b[39m.\u001b[39margmax(tf\u001b[39m.\u001b[39mconstant([\u001b[39m200\u001b[39m,\u001b[39m120\u001b[39m,\u001b[39m130\u001b[39m,\u001b[39m3\u001b[39m,\u001b[39m6\u001b[39m]))\n\u001b[0;32m      2\u001b[0m \u001b[39mprint\u001b[39m(x_argmax)\n",
      "\u001b[1;31mNameError\u001b[0m: name 'tf' is not defined"
     ]
    }
   ],
   "source": [
    "x_argmax = tf.math.argmax(tf.constant([200,120,130,3,6]))\n",
    "print(x_argmax)"
   ]
  }
 ],
 "metadata": {
  "kernelspec": {
   "display_name": "Python 3",
   "language": "python",
   "name": "python3"
  },
  "language_info": {
   "codemirror_mode": {
    "name": "ipython",
    "version": 3
   },
   "file_extension": ".py",
   "mimetype": "text/x-python",
   "name": "python",
   "nbconvert_exporter": "python",
   "pygments_lexer": "ipython3",
   "version": "3.11.3"
  },
  "orig_nbformat": 4
 },
 "nbformat": 4,
 "nbformat_minor": 2
}
