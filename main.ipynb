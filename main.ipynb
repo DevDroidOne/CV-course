{
 "cells": [
  {
   "cell_type": "code",
   "execution_count": 2,
   "metadata": {},
   "outputs": [],
   "source": [
    "import tensorflow as tf"
   ]
  },
  {
   "cell_type": "code",
   "execution_count": 3,
   "metadata": {},
   "outputs": [
    {
     "name": "stdout",
     "output_type": "stream",
     "text": [
      "tf.Tensor(4, shape=(), dtype=int32)\n"
     ]
    }
   ],
   "source": [
    "tensor_zero_d = tf.constant(4)\n",
    "print(tensor_zero_d)"
   ]
  },
  {
   "cell_type": "code",
   "execution_count": 4,
   "metadata": {},
   "outputs": [
    {
     "name": "stdout",
     "output_type": "stream",
     "text": [
      "tf.Tensor([1 2 3], shape=(3,), dtype=int32)\n"
     ]
    }
   ],
   "source": [
    "tensor_one_d = tf.constant([1, 2, 3])\n",
    "print(tensor_one_d)"
   ]
  },
  {
   "cell_type": "code",
   "execution_count": 5,
   "metadata": {},
   "outputs": [
    {
     "name": "stdout",
     "output_type": "stream",
     "text": [
      "tf.Tensor(\n",
      "[[1 2 3]\n",
      " [2 3 4]\n",
      " [3 4 5]], shape=(3, 3), dtype=int32)\n"
     ]
    }
   ],
   "source": [
    "tensor_two_d = tf.constant([[1,2,3],[2,3,4],[3,4,5]])\n",
    "print(tensor_two_d)\n"
   ]
  },
  {
   "cell_type": "code",
   "execution_count": 6,
   "metadata": {},
   "outputs": [
    {
     "name": "stdout",
     "output_type": "stream",
     "text": [
      "tf.Tensor(\n",
      "[[[ 1  2  3]\n",
      "  [ 3  4  5]]\n",
      "\n",
      " [[ 4  5  6]\n",
      "  [ 6  7  8]]\n",
      "\n",
      " [[43 53 63]\n",
      "  [63 73 83]]], shape=(3, 2, 3), dtype=int32)\n"
     ]
    }
   ],
   "source": [
    "tensor_tree_d = tf.constant([[[1,2,3],[3,4,5]],[[4,5,6],[6,7,8]],[[43,53,63],[63,73,83]]])\n",
    "print(tensor_tree_d)\n"
   ]
  },
  {
   "cell_type": "code",
   "execution_count": 24,
   "metadata": {},
   "outputs": [
    {
     "name": "stdout",
     "output_type": "stream",
     "text": [
      "tf.Tensor(\n",
      "[[[[1. 0. 0. 0.]\n",
      "   [0. 1. 0. 0.]\n",
      "   [0. 0. 1. 0.]\n",
      "   [0. 0. 0. 1.]]\n",
      "\n",
      "  [[1. 0. 0. 0.]\n",
      "   [0. 1. 0. 0.]\n",
      "   [0. 0. 1. 0.]\n",
      "   [0. 0. 0. 1.]]]\n",
      "\n",
      "\n",
      " [[[1. 0. 0. 0.]\n",
      "   [0. 1. 0. 0.]\n",
      "   [0. 0. 1. 0.]\n",
      "   [0. 0. 0. 1.]]\n",
      "\n",
      "  [[1. 0. 0. 0.]\n",
      "   [0. 1. 0. 0.]\n",
      "   [0. 0. 1. 0.]\n",
      "   [0. 0. 0. 1.]]]], shape=(2, 2, 4, 4), dtype=float32)\n"
     ]
    }
   ],
   "source": [
    "eye_tensor = tf.eye(num_rows=4,num_columns=None,batch_shape=[2,2],dtype=tf.dtypes.float32)\n",
    "print(eye_tensor)"
   ]
  },
  {
   "cell_type": "code",
   "execution_count": null,
   "metadata": {},
   "outputs": [],
   "source": [
    "tf_fill_tensor = "
   ]
  }
 ],
 "metadata": {
  "kernelspec": {
   "display_name": "Python 3",
   "language": "python",
   "name": "python3"
  },
  "language_info": {
   "codemirror_mode": {
    "name": "ipython",
    "version": 3
   },
   "file_extension": ".py",
   "mimetype": "text/x-python",
   "name": "python",
   "nbconvert_exporter": "python",
   "pygments_lexer": "ipython3",
   "version": "3.11.3"
  },
  "orig_nbformat": 4
 },
 "nbformat": 4,
 "nbformat_minor": 2
}
